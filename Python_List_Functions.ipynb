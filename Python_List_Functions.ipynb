{
  "nbformat": 4,
  "nbformat_minor": 0,
  "metadata": {
    "colab": {
      "provenance": [],
      "authorship_tag": "ABX9TyObXfabN31P710R1SZmmNnw",
      "include_colab_link": true
    },
    "kernelspec": {
      "name": "python3",
      "display_name": "Python 3"
    },
    "language_info": {
      "name": "python"
    }
  },
  "cells": [
    {
      "cell_type": "markdown",
      "metadata": {
        "id": "view-in-github",
        "colab_type": "text"
      },
      "source": [
        "<a href=\"https://colab.research.google.com/github/MDSONU22943/PYTHON-FOUNDATION-PW/blob/main/Python_List_Functions.ipynb\" target=\"_parent\"><img src=\"https://colab.research.google.com/assets/colab-badge.svg\" alt=\"Open In Colab\"/></a>"
      ]
    },
    {
      "cell_type": "markdown",
      "source": [
        "Q1. What is the syntax for adding an element to a list in Python?\n",
        "\n"
      ],
      "metadata": {
        "id": "mfcDV71b-mL-"
      }
    },
    {
      "cell_type": "code",
      "source": [
        "fruits = [\"apple\", \"banana\"]\n",
        "fruits.append(\"orange\")\n",
        "print(fruits)\n"
      ],
      "metadata": {
        "colab": {
          "base_uri": "https://localhost:8080/"
        },
        "id": "YdTyuYC0-q2J",
        "outputId": "59266258-1a32-4ec6-b179-5e696c9cbb8b"
      },
      "execution_count": 1,
      "outputs": [
        {
          "output_type": "stream",
          "name": "stdout",
          "text": [
            "['apple', 'banana', 'orange']\n"
          ]
        }
      ]
    },
    {
      "cell_type": "code",
      "source": [],
      "metadata": {
        "id": "vFZVSkkh-rUl"
      },
      "execution_count": null,
      "outputs": []
    },
    {
      "cell_type": "markdown",
      "source": [
        "Q2. What is the difference between remove() and pop() functions in Python?\n",
        "\n",
        " the main difference between remove() and pop() is that remove() removes a specified element from the list based on its value, while pop() removes an element from the list based on its index and returns the removed element. Additionally, remove() modifies the list in place and does not return any value, while pop() modifies the list in place and returns the removed element."
      ],
      "metadata": {
        "id": "LYB7zZvp-v_W"
      }
    },
    {
      "cell_type": "code",
      "source": [],
      "metadata": {
        "id": "sOVzoyTP-6hc"
      },
      "execution_count": null,
      "outputs": []
    },
    {
      "cell_type": "markdown",
      "source": [
        "Q3. Write a Python code to sort a list in descending order."
      ],
      "metadata": {
        "id": "zBzLNIrd-_Kk"
      }
    },
    {
      "cell_type": "code",
      "source": [
        "my_list = [5, 3, 9, 1, 7]\n",
        "my_list.sort(reverse=True)\n",
        "print(my_list)\n"
      ],
      "metadata": {
        "colab": {
          "base_uri": "https://localhost:8080/"
        },
        "id": "uJ_gpCTN_AB8",
        "outputId": "875fae09-8b94-4e65-bbe2-3b7ff1bae76e"
      },
      "execution_count": 2,
      "outputs": [
        {
          "output_type": "stream",
          "name": "stdout",
          "text": [
            "[9, 7, 5, 3, 1]\n"
          ]
        }
      ]
    },
    {
      "cell_type": "code",
      "source": [],
      "metadata": {
        "id": "JnAqe0qm_CeS"
      },
      "execution_count": null,
      "outputs": []
    },
    {
      "cell_type": "markdown",
      "source": [
        "Q4. Write a Python code to count the number of occurrences of an element in a list."
      ],
      "metadata": {
        "id": "z7COftPo_H0_"
      }
    },
    {
      "cell_type": "code",
      "source": [
        "my_list = [1, 2, 3, 4, 3, 2, 3, 5]\n",
        "count = my_list.count(3)\n",
        "print(count)\n"
      ],
      "metadata": {
        "colab": {
          "base_uri": "https://localhost:8080/"
        },
        "id": "qukvvHn8_IcT",
        "outputId": "3df91fe3-dedf-4dda-a4eb-ca48fb9f58e0"
      },
      "execution_count": 3,
      "outputs": [
        {
          "output_type": "stream",
          "name": "stdout",
          "text": [
            "3\n"
          ]
        }
      ]
    },
    {
      "cell_type": "code",
      "source": [],
      "metadata": {
        "id": "7gXbc67x_Klo"
      },
      "execution_count": null,
      "outputs": []
    },
    {
      "cell_type": "markdown",
      "source": [
        "Q5. Write a Python code to reverse a list."
      ],
      "metadata": {
        "id": "5z-2X4Gl_P1g"
      }
    },
    {
      "cell_type": "code",
      "source": [
        "my_list = [1, 2, 3, 4, 5]\n",
        "reversed_list = my_list[::-1]\n",
        "print(reversed_list)\n"
      ],
      "metadata": {
        "colab": {
          "base_uri": "https://localhost:8080/"
        },
        "id": "SvTbU49H_RHs",
        "outputId": "7e182b08-fdbf-4da4-af03-5409017ee250"
      },
      "execution_count": 4,
      "outputs": [
        {
          "output_type": "stream",
          "name": "stdout",
          "text": [
            "[5, 4, 3, 2, 1]\n"
          ]
        }
      ]
    },
    {
      "cell_type": "code",
      "source": [
        "my_list = [1, 2, 3, 4, 5]\n",
        "my_list.reverse()\n",
        "print(my_list)\n"
      ],
      "metadata": {
        "colab": {
          "base_uri": "https://localhost:8080/"
        },
        "id": "5tNKlsYi_UxD",
        "outputId": "2f21e62c-50c5-44e5-e14c-628500f885d1"
      },
      "execution_count": 5,
      "outputs": [
        {
          "output_type": "stream",
          "name": "stdout",
          "text": [
            "[5, 4, 3, 2, 1]\n"
          ]
        }
      ]
    },
    {
      "cell_type": "code",
      "source": [],
      "metadata": {
        "id": "thtBMuKL_XE7"
      },
      "execution_count": null,
      "outputs": []
    }
  ]
}