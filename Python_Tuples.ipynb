{
  "nbformat": 4,
  "nbformat_minor": 0,
  "metadata": {
    "colab": {
      "provenance": [],
      "authorship_tag": "ABX9TyNWqwOWDjsc6/zOKU/danVM",
      "include_colab_link": true
    },
    "kernelspec": {
      "name": "python3",
      "display_name": "Python 3"
    },
    "language_info": {
      "name": "python"
    }
  },
  "cells": [
    {
      "cell_type": "markdown",
      "metadata": {
        "id": "view-in-github",
        "colab_type": "text"
      },
      "source": [
        "<a href=\"https://colab.research.google.com/github/MDSONU22943/PYTHON-FOUNDATION-PW/blob/main/Python_Tuples.ipynb\" target=\"_parent\"><img src=\"https://colab.research.google.com/assets/colab-badge.svg\" alt=\"Open In Colab\"/></a>"
      ]
    },
    {
      "cell_type": "code",
      "execution_count": null,
      "metadata": {
        "id": "2jlZnWB42lWJ"
      },
      "outputs": [],
      "source": [
        "Q1. What is a tuple in Python?"
      ]
    },
    {
      "cell_type": "markdown",
      "source": [
        "In Python, a tuple is an immutable collection of ordered elements, enclosed in parentheses (). Tuples are similar to lists, but the key difference is that tuples cannot be modified once they are created.\n",
        "\n",
        "Tuples can contain elements of different data types, such as integers, floats, strings, or even other tuples. Elements in a tuple can be accessed using indexing or slicing, just like in a list."
      ],
      "metadata": {
        "id": "3YWaibg_4e4x"
      }
    },
    {
      "cell_type": "code",
      "source": [
        "my_tuple = (1, 2, 3, 'four', 'five')\n"
      ],
      "metadata": {
        "id": "58Xtm4d-4gMe"
      },
      "execution_count": 1,
      "outputs": []
    },
    {
      "cell_type": "code",
      "source": [
        "Q2. How do you create a tuple in Python?"
      ],
      "metadata": {
        "id": "GnuK5ipq4kdg"
      },
      "execution_count": null,
      "outputs": []
    },
    {
      "cell_type": "code",
      "source": [
        "my_tuple = (1, 2, 3, 'four', 'five')\n"
      ],
      "metadata": {
        "id": "3U0SLXnP4qHj"
      },
      "execution_count": 2,
      "outputs": []
    },
    {
      "cell_type": "code",
      "source": [
        "Q3. What is the difference between a tuple and a list in Python?"
      ],
      "metadata": {
        "id": "R7JpK6Qk4t-n"
      },
      "execution_count": null,
      "outputs": []
    },
    {
      "cell_type": "markdown",
      "source": [
        "Mutability: A tuple is immutable, which means its elements cannot be modified once it is created. In contrast, a list is mutable, which means its elements can be modified.\n",
        "\n",
        "Syntax: Tuples are created using parentheses () whereas lists are created using square brackets [].\n",
        "\n",
        "Performance: Tuples are generally faster than lists, especially when accessing elements. This is because tuples are stored in a contiguous block of memory, whereas lists are stored in separate blocks of memory that may not be adjacent.\n",
        "\n",
        "Usage: Tuples are often used to represent fixed collections of elements, such as the coordinates of a point in space or a date and time stamp. Lists, on the other hand, are more flexible and are often used to store collections of varying length or to represent sequences of data that can be modified."
      ],
      "metadata": {
        "id": "EemUUzd047rF"
      }
    },
    {
      "cell_type": "markdown",
      "source": [
        "Q4. Can a tuple be changed in Python?\n",
        " No"
      ],
      "metadata": {
        "id": "NzGoMTyC5EuG"
      }
    },
    {
      "cell_type": "markdown",
      "source": [
        "Q5. How do you access elements in a tuple?\n",
        "\n",
        "In Python, you can access elements in a tuple using indexing or slicing."
      ],
      "metadata": {
        "id": "USD735Tq5Npm"
      }
    },
    {
      "cell_type": "code",
      "source": [
        "my_tuple = ('apple', 'banana', 'cherry', 'date', 'elderberry')\n",
        "\n",
        "# Accessing the first element of the tuple\n",
        "first_element = my_tuple[0]  # Returns 'apple'\n",
        "\n",
        "# Accessing a range of elements using slicing\n",
        "sliced_tuple = my_tuple[1:4]  # Returns a new tuple containing 'banana', 'cherry', and 'date'\n",
        "\n",
        "# Accessing every other element using slicing\n",
        "every_other_element = my_tuple[::2]  # Returns a new tuple containing 'apple', 'cherry', and 'elderberry'\n"
      ],
      "metadata": {
        "id": "q4-2B9bW5SES"
      },
      "execution_count": 3,
      "outputs": []
    },
    {
      "cell_type": "markdown",
      "source": [
        "Q6. How do you unpack a tuple in Python?\n",
        "\n",
        "In Python, you can unpack a tuple by assigning its elements to variables. This is a convenient way to assign multiple values to multiple variables in a single line of code.\n",
        "\n",
        "To unpack a tuple, you can simply write the variable names separated by commas on the left-hand side of an assignment operator = and the tuple on the right-hand side. The number of variables on the left-hand side must match the number of elements in the tuple."
      ],
      "metadata": {
        "id": "8bSmPo_N5ls9"
      }
    },
    {
      "cell_type": "code",
      "source": [
        "my_tuple = ('apple', 'banana', 'cherry')\n",
        "fruit1, fruit2, fruit3 = my_tuple\n"
      ],
      "metadata": {
        "id": "0EPFBwhl5t3V"
      },
      "execution_count": 4,
      "outputs": []
    },
    {
      "cell_type": "code",
      "source": [],
      "metadata": {
        "id": "4bMk6HXC5zsB"
      },
      "execution_count": null,
      "outputs": []
    }
  ]
}