{
 "cells": [
  {
   "cell_type": "markdown",
   "id": "57ad90ff",
   "metadata": {},
   "source": [
    "Q1 How can we store a single quote (‘) as a string in a variable?"
   ]
  },
  {
   "cell_type": "code",
   "execution_count": 1,
   "id": "dc2bf421",
   "metadata": {},
   "outputs": [
    {
     "data": {
      "text/plain": [
       "\"don't\""
      ]
     },
     "execution_count": 1,
     "metadata": {},
     "output_type": "execute_result"
    }
   ],
   "source": [
    "a=\"don't\"\n",
    "a"
   ]
  },
  {
   "cell_type": "markdown",
   "id": "2f389a7d",
   "metadata": {},
   "source": [
    "Q/Q Refer the below variable:\n",
    "x = 'a'\n",
    "Here, is x a character type or string type variable? Support your answer with an explanat1on."
   ]
  },
  {
   "cell_type": "code",
   "execution_count": 2,
   "id": "fc459d10",
   "metadata": {},
   "outputs": [
    {
     "data": {
      "text/plain": [
       "str"
      ]
     },
     "execution_count": 2,
     "metadata": {},
     "output_type": "execute_result"
    }
   ],
   "source": [
    "x='a'\n",
    "type(x)"
   ]
  },
  {
   "cell_type": "code",
   "execution_count": null,
   "id": "63a6ed87",
   "metadata": {},
   "outputs": [],
   "source": [
    "Q3 Apply the following functions on this variable: ‘Welcome to Python foundation course'\n",
    "1. find()\n",
    "2. count()\n",
    "3. len()\n",
    "4. Concatenation"
   ]
  },
  {
   "cell_type": "code",
   "execution_count": 3,
   "id": "d531e430",
   "metadata": {},
   "outputs": [
    {
     "data": {
      "text/plain": [
       "8"
      ]
     },
     "execution_count": 3,
     "metadata": {},
     "output_type": "execute_result"
    }
   ],
   "source": [
    "x='Welcome to Python foundation course'\n",
    "x.find('to')"
   ]
  },
  {
   "cell_type": "code",
   "execution_count": 4,
   "id": "ba750b9a",
   "metadata": {},
   "outputs": [
    {
     "data": {
      "text/plain": [
       "6"
      ]
     },
     "execution_count": 4,
     "metadata": {},
     "output_type": "execute_result"
    }
   ],
   "source": [
    "x.count('o')"
   ]
  },
  {
   "cell_type": "code",
   "execution_count": 5,
   "id": "23c2194f",
   "metadata": {},
   "outputs": [
    {
     "data": {
      "text/plain": [
       "35"
      ]
     },
     "execution_count": 5,
     "metadata": {},
     "output_type": "execute_result"
    }
   ],
   "source": [
    "len(x)"
   ]
  },
  {
   "cell_type": "code",
   "execution_count": 6,
   "id": "adbb64eb",
   "metadata": {},
   "outputs": [
    {
     "name": "stdout",
     "output_type": "stream",
     "text": [
      "Welcome to Python foundation course is awesome!\n"
     ]
    }
   ],
   "source": [
    "my_string2 = \" is awesome!\"\n",
    "result = x + my_string2\n",
    "print(result)\n"
   ]
  },
  {
   "cell_type": "code",
   "execution_count": null,
   "id": "a570149c",
   "metadata": {},
   "outputs": [],
   "source": [
    "Q4 For the variable: word = ‘PanaJi@12256'\n",
    "Calculate the follow1ng:\n",
    "(a) Total number of alphabets in lowercase\n",
    "(b) Total number of alphabets in uppercase\n",
    "(c) Total number of numer1cal in string"
   ]
  },
  {
   "cell_type": "code",
   "execution_count": 7,
   "id": "b500676a",
   "metadata": {},
   "outputs": [],
   "source": [
    "word=\"PanaJi@12256\"\n"
   ]
  },
  {
   "cell_type": "code",
   "execution_count": 8,
   "id": "3d4b8a28",
   "metadata": {},
   "outputs": [
    {
     "name": "stdout",
     "output_type": "stream",
     "text": [
      "4\n"
     ]
    }
   ],
   "source": [
    "lowercase_count = sum(1 for i in word if i.isalpha() and i.islower())\n",
    "print(lowercase_count)\n"
   ]
  },
  {
   "cell_type": "code",
   "execution_count": 9,
   "id": "ae2dad1d",
   "metadata": {},
   "outputs": [
    {
     "name": "stdout",
     "output_type": "stream",
     "text": [
      "2\n"
     ]
    }
   ],
   "source": [
    "uppercase_count = sum(1 for i in word if i.isalpha() and i.isupper())\n",
    "print(uppercase_count) \n"
   ]
  },
  {
   "cell_type": "code",
   "execution_count": 12,
   "id": "29d19b1b",
   "metadata": {},
   "outputs": [
    {
     "name": "stdout",
     "output_type": "stream",
     "text": [
      "5\n"
     ]
    }
   ],
   "source": [
    "numerical_count = sum(1 for i in word if i.isdigit())\n",
    "print(numerical_count)\n"
   ]
  },
  {
   "cell_type": "markdown",
   "id": "285f1e0d",
   "metadata": {},
   "source": [
    "Q5 Write a code to store a numer1cal value inside a variable then convert it into string"
   ]
  },
  {
   "cell_type": "code",
   "execution_count": 13,
   "id": "3c2d4797",
   "metadata": {},
   "outputs": [
    {
     "name": "stdout",
     "output_type": "stream",
     "text": [
      "<class 'int'>\n",
      "<class 'str'>\n"
     ]
    }
   ],
   "source": [
    "num = 42\n",
    "str_num = str(num)\n",
    "print(type(num))     \n",
    "print(type(str_num))\n"
   ]
  },
  {
   "cell_type": "code",
   "execution_count": null,
   "id": "f22bda15",
   "metadata": {},
   "outputs": [],
   "source": []
  }
 ],
 "metadata": {
  "kernelspec": {
   "display_name": "Python 3 (ipykernel)",
   "language": "python",
   "name": "python3"
  },
  "language_info": {
   "codemirror_mode": {
    "name": "ipython",
    "version": 3
   },
   "file_extension": ".py",
   "mimetype": "text/x-python",
   "name": "python",
   "nbconvert_exporter": "python",
   "pygments_lexer": "ipython3",
   "version": "3.9.13"
  }
 },
 "nbformat": 4,
 "nbformat_minor": 5
}
