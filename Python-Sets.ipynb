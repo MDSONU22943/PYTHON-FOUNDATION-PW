{
 "cells": [
  {
   "cell_type": "markdown",
   "id": "720e2c30-8064-4c5d-9348-68b6523d27d7",
   "metadata": {},
   "source": [
    "Q1. What is a set in Python?"
   ]
  },
  {
   "cell_type": "markdown",
   "id": "ffaad079-cffd-4543-867c-641e356cd5be",
   "metadata": {},
   "source": [
    "In Python, a set is an unordered collection of unique and immutable objects. It is similar to a list or a tuple, but with a few key differences. The elements of a set can be of any data type, such as numbers, strings, or even other sets. However, unlike lists or tuples, sets cannot contain duplicate elements.\n",
    "\n",
    "In Python, you can create a set using the built-in set() function or by enclosing a sequence of elements in curly braces {}."
   ]
  },
  {
   "cell_type": "code",
   "execution_count": 1,
   "id": "d866e370-c97b-4e01-b028-f168231882fc",
   "metadata": {},
   "outputs": [
    {
     "name": "stdout",
     "output_type": "stream",
     "text": [
      "2 is in the set\n"
     ]
    }
   ],
   "source": [
    "# Using the set() function\n",
    "my_set = set([1, 2, 3, 4, 5])\n",
    "\n",
    "# Using curly braces {}\n",
    "my_set = {1, 2, 3, 4, 5}\n",
    "# Adding an element to a set\n",
    "my_set.add(6)\n",
    "\n",
    "# Removing an element from a set\n",
    "my_set.remove(3)\n",
    "\n",
    "# Finding the union of two sets\n",
    "other_set = {4, 5, 6, 7, 8}\n",
    "union_set = my_set.union(other_set)\n",
    "\n",
    "# Finding the intersection of two sets\n",
    "intersect_set = my_set.intersection(other_set)\n",
    "\n",
    "# Checking if an element is in a set\n",
    "if 2 in my_set:\n",
    "    print(\"2 is in the set\")\n"
   ]
  },
  {
   "cell_type": "markdown",
   "id": "c1976d99-5574-4e54-a770-cc48fe988d6f",
   "metadata": {},
   "source": [
    "Q2.How do you create a set in Python?"
   ]
  },
  {
   "cell_type": "markdown",
   "id": "519fb106-7120-499c-9c61-003e8280d931",
   "metadata": {},
   "source": [
    "You can create a set in Python using the built-in set() function or by enclosing a sequence of elements in curly braces {}.\n",
    "\n"
   ]
  },
  {
   "cell_type": "code",
   "execution_count": 2,
   "id": "5fccdec2-676e-48bc-ba9c-620237a58396",
   "metadata": {},
   "outputs": [
    {
     "name": "stdout",
     "output_type": "stream",
     "text": [
      "{1, 2, 3, 4, 5}\n"
     ]
    }
   ],
   "source": [
    "# Creating a set using the set() function\n",
    "my_set = set([1, 2, 3, 4, 5])\n",
    "print(my_set) # Output: {1, 2, 3, 4, 5}\n"
   ]
  },
  {
   "cell_type": "markdown",
   "id": "c23ce4d3-74f2-47fc-8818-136c8f60d912",
   "metadata": {},
   "source": [
    "Q3. How do you add elements to a set in Python?"
   ]
  },
  {
   "cell_type": "code",
   "execution_count": 3,
   "id": "920dfd60-dd9b-4c8d-bc0e-837720e326c1",
   "metadata": {},
   "outputs": [
    {
     "name": "stdout",
     "output_type": "stream",
     "text": [
      "{1, 2, 3, 4}\n"
     ]
    }
   ],
   "source": [
    "# Creating a set\n",
    "my_set = {1, 2, 3}\n",
    "\n",
    "# Adding a single element to the set using add() method\n",
    "my_set.add(4)\n",
    "print(my_set) # Output: {1, 2, 3, 4}\n"
   ]
  },
  {
   "cell_type": "code",
   "execution_count": 4,
   "id": "14b43997-b099-4eb4-99a4-117b4fa4537f",
   "metadata": {},
   "outputs": [
    {
     "name": "stdout",
     "output_type": "stream",
     "text": [
      "{1, 2, 3, 4, 5, 6}\n"
     ]
    }
   ],
   "source": [
    "# Creating a set\n",
    "my_set = {1, 2, 3}\n",
    "\n",
    "# Adding multiple elements to the set using update() method\n",
    "my_set.update([4, 5, 6])\n",
    "print(my_set) # Output: {1, 2, 3, 4, 5, 6}\n"
   ]
  },
  {
   "cell_type": "markdown",
   "id": "c0dcce64-a910-4621-be56-03b395437556",
   "metadata": {},
   "source": [
    "Q4. How do you remove elements from a set in Python?"
   ]
  },
  {
   "cell_type": "code",
   "execution_count": 5,
   "id": "c31fe22b-28b3-405d-9d24-9ba2eebe07b6",
   "metadata": {},
   "outputs": [
    {
     "name": "stdout",
     "output_type": "stream",
     "text": [
      "{1, 2, 4}\n"
     ]
    }
   ],
   "source": [
    "# Creating a set\n",
    "my_set = {1, 2, 3, 4}\n",
    "\n",
    "# Removing an element using remove() method\n",
    "my_set.remove(3)\n",
    "print(my_set) # Output: {1, 2, 4}\n"
   ]
  },
  {
   "cell_type": "code",
   "execution_count": 6,
   "id": "531a5eaf-00c8-4a6c-92a6-fc6cc09d76e5",
   "metadata": {},
   "outputs": [
    {
     "name": "stdout",
     "output_type": "stream",
     "text": [
      "{1, 2, 4}\n",
      "{1, 2, 4}\n"
     ]
    }
   ],
   "source": [
    "# Creating a set\n",
    "my_set = {1, 2, 3, 4}\n",
    "\n",
    "# Removing an element using discard() method\n",
    "my_set.discard(3)\n",
    "print(my_set) # Output: {1, 2, 4}\n",
    "\n",
    "# Trying to remove a non-existent element using discard() method\n",
    "my_set.discard(5)\n",
    "print(my_set) # Output: {1, 2, 4}\n"
   ]
  },
  {
   "cell_type": "code",
   "execution_count": 7,
   "id": "d721a00a-ff07-4809-9742-f0fdd21951f0",
   "metadata": {},
   "outputs": [
    {
     "name": "stdout",
     "output_type": "stream",
     "text": [
      "{2, 3, 4}\n",
      "1\n"
     ]
    }
   ],
   "source": [
    "# Creating a set\n",
    "my_set = {1, 2, 3, 4}\n",
    "\n",
    "# Removing an arbitrary element using pop() method\n",
    "removed_element = my_set.pop()\n",
    "print(my_set) # Output: {2, 3, 4}\n",
    "print(removed_element) # Output: 1\n"
   ]
  },
  {
   "cell_type": "markdown",
   "id": "5a636fa4-6d9c-4e37-bf6a-ce5b1d5b1498",
   "metadata": {},
   "source": [
    "Q5. How do you get the length of a set in Python?"
   ]
  },
  {
   "cell_type": "code",
   "execution_count": 8,
   "id": "e9c83dbb-e451-4691-8768-52f847d1a561",
   "metadata": {},
   "outputs": [
    {
     "name": "stdout",
     "output_type": "stream",
     "text": [
      "4\n"
     ]
    }
   ],
   "source": [
    "# Creating a set\n",
    "my_set = {1, 2, 3, 4}\n",
    "\n",
    "# Getting the length of the set using len() function\n",
    "set_length = len(my_set)\n",
    "print(set_length) # Output: 4\n"
   ]
  },
  {
   "cell_type": "code",
   "execution_count": null,
   "id": "115a114a-44f5-4f31-8809-eb9c058f3dd2",
   "metadata": {},
   "outputs": [],
   "source": []
  }
 ],
 "metadata": {
  "kernelspec": {
   "display_name": "Python 3 (ipykernel)",
   "language": "python",
   "name": "python3"
  },
  "language_info": {
   "codemirror_mode": {
    "name": "ipython",
    "version": 3
   },
   "file_extension": ".py",
   "mimetype": "text/x-python",
   "name": "python",
   "nbconvert_exporter": "python",
   "pygments_lexer": "ipython3",
   "version": "3.10.8"
  }
 },
 "nbformat": 4,
 "nbformat_minor": 5
}
