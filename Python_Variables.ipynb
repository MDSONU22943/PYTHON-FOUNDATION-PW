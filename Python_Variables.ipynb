{
  "nbformat": 4,
  "nbformat_minor": 0,
  "metadata": {
    "colab": {
      "provenance": [],
      "authorship_tag": "ABX9TyPdJm52tbKBJzvG5FKLYYjo",
      "include_colab_link": true
    },
    "kernelspec": {
      "name": "python3",
      "display_name": "Python 3"
    },
    "language_info": {
      "name": "python"
    }
  },
  "cells": [
    {
      "cell_type": "markdown",
      "metadata": {
        "id": "view-in-github",
        "colab_type": "text"
      },
      "source": [
        "<a href=\"https://colab.research.google.com/github/MDSONU22943/PYTHON-FOUNDATION-PW/blob/main/Python_Variables.ipynb\" target=\"_parent\"><img src=\"https://colab.research.google.com/assets/colab-badge.svg\" alt=\"Open In Colab\"/></a>"
      ]
    },
    {
      "cell_type": "markdown",
      "source": [
        "Q1. Write all the conventions being followed while declaring a variable.\n",
        "\n",
        "Use descriptive and meaningful names: Variable names should accurately reflect the purpose or meaning of the data they hold. Avoid using abbreviations or short forms that may not be immediately clear to other developers.\n",
        "\n",
        "Start with a lowercase letter: Variable names should always start with a lowercase letter to distinguish them from class names, which typically start with an uppercase letter.\n",
        "\n",
        "Use camelCase: When a variable name is made up of multiple words, use camelCase to separate the words. This means starting the second and subsequent words with an uppercase letter, and using no spaces or underscores between words.\n",
        "\n",
        "Use underscores for constants: In some programming languages, it is common to use all capital letters with underscores to represent constant values. For example, PI = 3.14159.\n",
        "\n",
        "Declare variables with their intended data type: Declare variables with their intended data type, such as integer, float, or string, to ensure that the program behaves as expected.\n",
        "\n",
        "Initialize variables: Always initialize variables to a default value or null, to avoid errors or unexpected behavior when they are used.\n",
        "\n",
        "Use the appropriate scope: Variables should be declared with the appropriate scope, such as local, global, or static, depending on their intended usage and lifespan within the program."
      ],
      "metadata": {
        "id": "KCCUZv4h686f"
      }
    },
    {
      "cell_type": "markdown",
      "source": [
        "Q2. What will happen if we declare a restricted keyword as a variable?\n",
        "\n",
        "If we declare a restricted keyword as a variable, the program will generate a syntax error"
      ],
      "metadata": {
        "id": "T7KqBSAI7DJd"
      }
    },
    {
      "cell_type": "markdown",
      "source": [
        "Q3. Can we actually declare a string as a variable name?\n",
        "\n",
        "in Python, it is not possible to declare a string as a variable name directly."
      ],
      "metadata": {
        "id": "Rr1zJuSf7Q_l"
      }
    },
    {
      "cell_type": "markdown",
      "source": [
        "Q4. Is it possible for us to declare “_” as a variable? If so, then write an example of it.\n",
        "\n",
        "Yes, it is possible to declare a variable with the name _ (underscore) in Python. In Python, variables starting with an underscore are considered as \"weak internal use indicator\" variables, and are often used as temporary variables or to indicate variables that are not intended to be accessed directly by the user."
      ],
      "metadata": {
        "id": "Gkd6kqde7kUu"
      }
    },
    {
      "cell_type": "code",
      "source": [
        "_ = 10\n",
        "print(_)  # Output: 10\n"
      ],
      "metadata": {
        "colab": {
          "base_uri": "https://localhost:8080/"
        },
        "id": "fM5P3Frs7oo8",
        "outputId": "82cba437-7d04-4f9b-e44e-cd707935b4b7"
      },
      "execution_count": 1,
      "outputs": [
        {
          "output_type": "stream",
          "name": "stdout",
          "text": [
            "10\n"
          ]
        }
      ]
    },
    {
      "cell_type": "markdown",
      "source": [
        "Q5. Using an example, explain how the variables in python are dynamic in nature.\n",
        "\n",
        "In Python, variables are dynamically typed and dynamically allocated, which means that their type and memory allocation can change during runtime."
      ],
      "metadata": {
        "id": "tRXTrdfF7uk4"
      }
    },
    {
      "cell_type": "code",
      "source": [
        "# Assigning a value of type int to a variable x\n",
        "x = 10\n",
        "print(x)  # Output: 10\n",
        "\n",
        "# Re-assigning a value of type str to the same variable x\n",
        "x = \"hello\"\n",
        "print(x)  # Output: \"hello\"\n",
        "\n",
        "# Assigning a value of type list to the same variable x\n",
        "x = [1, 2, 3]\n",
        "print(x)  # Output: [1, 2, 3]\n",
        "\n",
        "# Adding a new element to the list\n",
        "x.append(4)\n",
        "print(x)  # Output: [1, 2, 3, 4]\n"
      ],
      "metadata": {
        "colab": {
          "base_uri": "https://localhost:8080/"
        },
        "id": "NFR3xXkh70Dc",
        "outputId": "8cf564af-e832-45d7-c47b-73c866871dd1"
      },
      "execution_count": 2,
      "outputs": [
        {
          "output_type": "stream",
          "name": "stdout",
          "text": [
            "10\n",
            "hello\n",
            "[1, 2, 3]\n",
            "[1, 2, 3, 4]\n"
          ]
        }
      ]
    },
    {
      "cell_type": "code",
      "source": [],
      "metadata": {
        "id": "dCNx92gy73W_"
      },
      "execution_count": null,
      "outputs": []
    }
  ]
}